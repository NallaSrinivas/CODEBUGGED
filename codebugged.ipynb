{
  "nbformat": 4,
  "nbformat_minor": 0,
  "metadata": {
    "colab": {
      "provenance": []
    },
    "kernelspec": {
      "name": "python3",
      "display_name": "Python 3"
    },
    "language_info": {
      "name": "python"
    }
  },
  "cells": [
    {
      "cell_type": "code",
      "execution_count": 89,
      "metadata": {
        "colab": {
          "base_uri": "https://localhost:8080/"
        },
        "id": "8NMVIQG5Nsww",
        "outputId": "90490749-396e-49ab-9e17-395e836c17dc"
      },
      "outputs": [
        {
          "output_type": "stream",
          "name": "stdout",
          "text": [
            "Requirement already satisfied: pandas in /usr/local/lib/python3.10/dist-packages (2.2.2)\n",
            "Requirement already satisfied: numpy in /usr/local/lib/python3.10/dist-packages (1.26.4)\n",
            "Requirement already satisfied: scikit-learn in /usr/local/lib/python3.10/dist-packages (1.5.2)\n",
            "Requirement already satisfied: xgboost in /usr/local/lib/python3.10/dist-packages (2.1.1)\n",
            "Requirement already satisfied: python-dateutil>=2.8.2 in /usr/local/lib/python3.10/dist-packages (from pandas) (2.8.2)\n",
            "Requirement already satisfied: pytz>=2020.1 in /usr/local/lib/python3.10/dist-packages (from pandas) (2024.2)\n",
            "Requirement already satisfied: tzdata>=2022.7 in /usr/local/lib/python3.10/dist-packages (from pandas) (2024.2)\n",
            "Requirement already satisfied: scipy>=1.6.0 in /usr/local/lib/python3.10/dist-packages (from scikit-learn) (1.13.1)\n",
            "Requirement already satisfied: joblib>=1.2.0 in /usr/local/lib/python3.10/dist-packages (from scikit-learn) (1.4.2)\n",
            "Requirement already satisfied: threadpoolctl>=3.1.0 in /usr/local/lib/python3.10/dist-packages (from scikit-learn) (3.5.0)\n",
            "Requirement already satisfied: nvidia-nccl-cu12 in /usr/local/lib/python3.10/dist-packages (from xgboost) (2.23.4)\n",
            "Requirement already satisfied: six>=1.5 in /usr/local/lib/python3.10/dist-packages (from python-dateutil>=2.8.2->pandas) (1.16.0)\n"
          ]
        }
      ],
      "source": [
        "!pip install pandas numpy scikit-learn xgboost"
      ]
    },
    {
      "cell_type": "code",
      "source": [
        "import numpy as np\n",
        "import pandas as pd\n",
        "import lightgbm as lgb\n",
        "from sklearn.model_selection import train_test_split\n",
        "from sklearn.metrics import mean_squared_error\n",
        "import matplotlib.pyplot as plt\n",
        "import seaborn as sns"
      ],
      "metadata": {
        "id": "gKDmSf7SNwjs"
      },
      "execution_count": 90,
      "outputs": []
    },
    {
      "cell_type": "code",
      "source": [
        "# Load data\n",
        "train = pd.read_csv('train.csv')\n",
        "stores = pd.read_csv('stores.csv')\n",
        "oil = pd.read_csv('oil.csv')\n",
        "holidays = pd.read_csv('holidays_events.csv')\n",
        "transactions = pd.read_csv('transactions.csv')\n",
        "test = pd.read_csv('test.csv')\n"
      ],
      "metadata": {
        "id": "SzCymMnGRHaD"
      },
      "execution_count": 91,
      "outputs": []
    },
    {
      "cell_type": "code",
      "source": [
        "# Convert date to datetime\n",
        "train['date'] = pd.to_datetime(train_data['date'])\n",
        "holidays['date'] = pd.to_datetime(holidays['date'])\n",
        "oil['date'] = pd.to_datetime(oil['date'])\n",
        "transactions['date'] = pd.to_datetime(transactions['date'])\n",
        "test['date'] = pd.to_datetime(test['date'])\n",
        "\n"
      ],
      "metadata": {
        "id": "Cqyt_nIhSUlw"
      },
      "execution_count": 92,
      "outputs": []
    },
    {
      "cell_type": "code",
      "source": [
        "# Merge additional information into the train and test data\n",
        "train = train.merge(stores, on='store_nbr', how='left')\n",
        "test = test.merge(stores, on='store_nbr', how='left')\n",
        "\n",
        "train = train.merge(oil, on='date', how='left')\n",
        "test = test.merge(oil, on='date', how='left')\n",
        "\n",
        "train = train.merge(holidays, on='date', how='left')\n",
        "test = test.merge(holidays, on='date', how='left')"
      ],
      "metadata": {
        "id": "cYXKw8p4pWHL"
      },
      "execution_count": 93,
      "outputs": []
    },
    {
      "cell_type": "code",
      "source": [
        "# Merge transactions data into train and test\n",
        "train = train.merge(transactions, on=['date', 'store_nbr'], how='left')\n",
        "test = test.merge(transactions, on=['date', 'store_nbr'], how='left')"
      ],
      "metadata": {
        "id": "Ofg4Qe3npOw-"
      },
      "execution_count": 94,
      "outputs": []
    },
    {
      "cell_type": "code",
      "source": [
        "# Fill missing values without inplace=True to avoid chained assignment\n",
        "train['onpromotion'] = train['onpromotion'].fillna(0)\n",
        "test['onpromotion'] = test['onpromotion'].fillna(0)\n",
        "\n",
        "train['dcoilwtico'] = train['dcoilwtico'].ffill()\n",
        "test['dcoilwtico'] = test['dcoilwtico'].ffill()\n",
        "\n",
        "train['transactions'] = train['transactions'].fillna(0)\n",
        "test['transactions'] = test['transactions'].fillna(0)"
      ],
      "metadata": {
        "id": "VdnFhZfjpWzP"
      },
      "execution_count": 95,
      "outputs": []
    },
    {
      "cell_type": "code",
      "source": [
        "# Encode categorical features\n",
        "train['family'] = train['family'].astype('category').cat.codes\n",
        "test['family'] = test['family'].astype('category').cat.codes\n",
        "\n",
        "train['type_x'] = train['type_x'].astype('category').cat.codes\n",
        "test['type_x'] = test['type_x'].astype('category').cat.codes"
      ],
      "metadata": {
        "id": "-cv4pbRmpbWu"
      },
      "execution_count": 96,
      "outputs": []
    },
    {
      "cell_type": "code",
      "source": [
        "# Selecting features and target variable\n",
        "features = ['store_nbr', 'family', 'onpromotion', 'dcoilwtico', 'transactions', 'type_x', 'cluster']\n",
        "X_train = train[features]\n",
        "y_train = train['sales']\n",
        "X_test = test[features]"
      ],
      "metadata": {
        "id": "HUKqy7h1pdmC"
      },
      "execution_count": 97,
      "outputs": []
    },
    {
      "cell_type": "code",
      "source": [
        "# Initialize the LightGBM model\n",
        "lgb_train_data = lgb.Dataset(X_train, label=y_train)\n",
        "params = {\n",
        "    'objective': 'regression',\n",
        "    'metric': 'rmsle',\n",
        "    'boosting_type': 'gbdt',\n",
        "    'verbosity': -1,\n",
        "    'random_state': 42\n",
        "}"
      ],
      "metadata": {
        "id": "w2BDCehEpgp2"
      },
      "execution_count": 98,
      "outputs": []
    },
    {
      "cell_type": "code",
      "source": [
        "# Train the model\n",
        "lgb_model = lgb.train(params, lgb_train_data, num_boost_round=100)"
      ],
      "metadata": {
        "id": "4WsXUaYcpjB7"
      },
      "execution_count": 85,
      "outputs": []
    },
    {
      "cell_type": "code",
      "source": [
        "# Make predictions on the test set\n",
        "test['sales'] = lgb_model.predict(X_test)"
      ],
      "metadata": {
        "id": "eBpUXGecpjxC"
      },
      "execution_count": 103,
      "outputs": []
    },
    {
      "cell_type": "code",
      "source": [
        "# Prepare submission\n",
        "submission = test[['id', 'sales']]\n",
        "submission.to_csv('submission.csv', index=False)"
      ],
      "metadata": {
        "id": "BUsx6dWSplj6"
      },
      "execution_count": 104,
      "outputs": []
    },
    {
      "cell_type": "code",
      "source": [
        "# Predictions on validation data\n",
        "y_val_pred = lgb_model.predict(X_val, num_iteration=lgb_model.best_iteration)\n",
        "\n",
        "# Clip negative predictions to a small positive value (e.g., 0.1) to avoid errors\n",
        "y_val_pred = np.clip(y_val_pred, 0.1, None)\n",
        "\n",
        "print(f'Validation RMSE: {mean_squared_log_error(y_val, y_val_pred, squared=False)}')"
      ],
      "metadata": {
        "colab": {
          "base_uri": "https://localhost:8080/"
        },
        "id": "05Jn73tOpn5m",
        "outputId": "2a773833-467d-419f-9140-0d7ad2a731d7"
      },
      "execution_count": 105,
      "outputs": [
        {
          "output_type": "stream",
          "name": "stdout",
          "text": [
            "Validation RMSE: 1.9336897344848585\n"
          ]
        },
        {
          "output_type": "stream",
          "name": "stderr",
          "text": [
            "/usr/local/lib/python3.10/dist-packages/sklearn/metrics/_regression.py:675: FutureWarning: 'squared' is deprecated in version 1.4 and will be removed in 1.6. To calculate the root mean squared logarithmic error, use the function'root_mean_squared_log_error'.\n",
            "  warnings.warn(\n"
          ]
        }
      ]
    }
  ]
}